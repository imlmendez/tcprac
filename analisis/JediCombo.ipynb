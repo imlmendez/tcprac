{
 "cells": [
  {
   "cell_type": "markdown",
   "metadata": {},
   "source": [
    "## Jedi combo Iterativo\n",
    "\n",
    "Mejor caso?\n",
    "\n",
    "$ \\Omega ? $\n",
    "\n",
    "Para la versión iterativa el mejor caso posible sería cuando el array proporcionado, en este caso el deck, consta de una posicion (n=1) , esto significara que la subsecuencia más larga es ella misma y solo iteraremos una vez en cada bucle lo que nos da un coste constante.\n",
    "$$ \\Omega  =(c)$$\n",
    "\n",
    "Peor caso?\n",
    "\n",
    "$ \\Theta ? $\n",
    "\n",
    "El peor caso posible lo encontramos cuando tenemos que iterar sobre el array proporcionado n veces siguiendo la siguiente formula, obviando los  $Cx$  e igualandolos a 1:\n",
    "\n",
    "$ c1 + c2 + c3(n+1) + c4(n) + c5(n) + c6(n) + c7 \\sum_{i=0}^{n}(i) + c8 \\sum_{i=0}^{n}(i) + c9 \\sum_{i=0}^{n}(i) + c10 + c11(n+1) + c12(n) + c13(n) + c14 + c15(n+1) + c16(n) + c17(n) + c18(n)$\n",
    "$$=$$\n",
    "$$1 + 1 + n+1 + n + n + n + \\dfrac{n(n+1)}{2} + \\dfrac{n(n+1)}{2} + \\dfrac{n(n+1)}{2} + 1 + n+1 + n + n + 1 + n+1 + n + n + n $$\n",
    "$$=$$\n",
    "$$14+25n+3n^2$$\n",
    "\n",
    "$$ \\Theta(n^2)$$"
   ]
  },
  {
   "cell_type": "code",
   "execution_count": 1,
   "metadata": {},
   "outputs": [],
   "source": [
    "def combo(deck,cont=0):\n",
    "        num_apariciones = []\n",
    "        i = 0\n",
    "        while i < len(deck):\n",
    "            num_apariciones.append(0)\n",
    "            i = i + 1\n",
    "\n",
    "        for indice_externo in range(len(deck) - 2, -1, -1):\n",
    "            for indice_interno in range(len(deck) - 1, indice_externo, -1):\n",
    "                cont=cont+1\n",
    "                if deck[indice_externo] < deck[indice_interno]and num_apariciones[indice_externo] <= num_apariciones[indice_interno]:\n",
    "                    num_apariciones[indice_externo] += 1  # or use m[x] = m[y] + 1\n",
    "\n",
    "        max_value = num_apariciones[0]\n",
    "        for i in num_apariciones:\n",
    "            if max_value < i:\n",
    "                max_value = i\n",
    "\n",
    "        result = []\n",
    "        for i in range(len(num_apariciones)):\n",
    "            if max_value == num_apariciones[i]:\n",
    "                result.append(deck[i])\n",
    "                max_value -= 1\n",
    "\n",
    "        return [result,cont]"
   ]
  },
  {
   "cell_type": "code",
   "execution_count": 2,
   "metadata": {},
   "outputs": [],
   "source": [
    "import math\n",
    "def t(n):\n",
    "    if len(n) == 1:\n",
    "        return 1\n",
    "    else:\n",
    "        return len(n)*len(n)"
   ]
  },
  {
   "cell_type": "code",
   "execution_count": 3,
   "metadata": {},
   "outputs": [],
   "source": [
    "import random\n",
    "import math\n",
    "n = [[1,2],[2,3,4,5,6],[7,8,9,10,11,12,13,14,15,16],[1,2,3,4,5,6,7,8,9,10,11,12,13,14,15,16,17,18,19,20]]\n",
    "steps_experimental=[0,0,0,0]\n",
    "steps_teoric=[0,0,0,0]\n",
    "steps_log=[0,0,0,0]\n",
    "ln=[2,5,10,20]\n",
    "\n",
    "\n",
    "for i in range(len(n)):\n",
    "    steps_teoric[i] = t(n[i])\n",
    "    steps_experimental[i] = combo(n[i],0)[1]\n",
    " \n",
    "    for j in range(math.ceil(math.log(n[i][i]))):\n",
    "             steps_log[i] = steps_log[i] +1"
   ]
  },
  {
   "cell_type": "code",
   "execution_count": 4,
   "metadata": {},
   "outputs": [
    {
     "data": {
      "text/plain": [
       "<Figure size 640x480 with 1 Axes>"
      ]
     },
     "metadata": {},
     "output_type": "display_data"
    }
   ],
   "source": [
    "import matplotlib.pyplot as plt\n",
    "import numpy as np\n",
    "\n",
    "\n",
    "plt.plot(ln,steps_experimental, 'g',label='experimental(x)')\n",
    "plt.plot(ln,steps_teoric, 'b',label='teoric(x)')\n",
    "#plt.plot(ln,steps_log, 'r', label='f(x)=log(x)')\n",
    "#plt.xscale('log')\n",
    "plt.xlabel('Mida entrada (n)')\n",
    "plt.ylabel('Operacions')\n",
    "plt.title('Anàlisis de la complexitat')\n",
    "plt.legend()\n",
    "plt.show()"
   ]
  },
  {
   "cell_type": "markdown",
   "metadata": {},
   "source": [
    "## Jedi Combo Recursivo\n",
    "\n",
    "Mejor caso?\n",
    "\n",
    "$ \\Omega ? $\n",
    "\n",
    "Para la estrategia recursiva tenemos que el mejor caso posible igual que en el iterativo , que el el array proporcionado, en este caso el deck, consta de una posicion (n=1) , esto significara que la subsecuencia más larga es ella misma y haremos la recursión una vez.\n",
    "\n",
    "$$ \\Omega  =(c)$$\n",
    "\n",
    "Peor caso?\n",
    "\n",
    "$ \\Theta ? $\n",
    "\n",
    "Para el peor caso tenemos que iterar sobre el array proporcionado n veces lo que nos da un coste de $n$ para la recursión y un coste de $2^n$ para la reconstrucción debido a la estructura de arbol que se forma. Por esta estructura de arbol donde $2^n$ se hace $n$ veces nos queda una :\n",
    "$$ \\Theta(2^n)n$$"
   ]
  },
  {
   "cell_type": "code",
   "execution_count": 5,
   "metadata": {},
   "outputs": [],
   "source": [
    "def inner_combo(deck, cur_seq, cur_i, result, cont):\n",
    "        \"\"\"Recursive combo\"\"\"\n",
    "        cont=cont+1\n",
    "        if len(deck) == cur_i:\n",
    "            result.append(cur_seq)\n",
    "            return [result,cont]\n",
    "\n",
    "        next_i = cur_i + 1\n",
    "        if len(cur_seq) == 0 or deck[cur_i] > cur_seq[-1]:\n",
    "            temp = cur_seq.copy()\n",
    "            temp1 = cur_seq.copy()\n",
    "            temp.append(deck[cur_i])\n",
    "            nuevo1 = inner_combo(deck, temp, next_i, result,cont)\n",
    "            nuevo2 = inner_combo(deck, temp1, next_i, result,cont)\n",
    "            #return inner_combo(deck, temp, next_i, result,cont) + inner_combo(deck, temp1, next_i, result,cont)\n",
    "            return [nuevo1[0] + nuevo2[0], nuevo1[1] + nuevo2[1]]\n",
    "        return [inner_combo(deck, cur_seq.copy(), next_i, result,cont),cont]\n"
   ]
  },
  {
   "cell_type": "code",
   "execution_count": 6,
   "metadata": {},
   "outputs": [],
   "source": [
    "import math\n",
    "def t(n):\n",
    "    if len(n) == 1:\n",
    "        return 1\n",
    "    else:\n",
    "        return pow(2,len(n)) * len(n)"
   ]
  },
  {
   "cell_type": "code",
   "execution_count": 7,
   "metadata": {},
   "outputs": [],
   "source": [
    "import random\n",
    "import math\n",
    "n = [[1,2],[2,3,4,5,6],[8,7,9,10,11,12,13,14,15,16],[1,2,3,4,5,6,7,8,9,10,11]]\n",
    "steps_experimental=[0,0,0,0]\n",
    "steps_teoric=[0,0,0,0]\n",
    "steps_log=[0,0,0,0]\n",
    "ln=[2,5,10,11]\n",
    "\n",
    "\n",
    "for i in range(len(n)):\n",
    "    cur_seq=[]\n",
    "    steps_teoric[i] = t(n[i])\n",
    "    steps_experimental[i] = inner_combo(n[i], cur_seq, 0, [],0)[1]\n",
    " \n",
    "    for j in range(math.ceil(math.log(n[i][i]))):\n",
    "             steps_log[i] = steps_log[i] +1\n",
    "            \n",
    "#print(steps_teoric)"
   ]
  },
  {
   "cell_type": "code",
   "execution_count": 8,
   "metadata": {},
   "outputs": [
    {
     "data": {
      "image/png": "[encoded data removed]",
      "text/plain": [
       "<Figure size 432x288 with 1 Axes>"
      ]
     },
     "metadata": {
      "needs_background": "light"
     },
     "output_type": "display_data"
    }
   ],
   "source": [
    "\n",
    "import matplotlib.pyplot as plt\n",
    "import numpy as np\n",
    "\n",
    "\n",
    "\n",
    "plt.plot(ln,steps_experimental, 'g',label='experimental(x)')\n",
    "plt.plot(ln,steps_teoric, 'b',label='teoric(x)')\n",
    "#plt.plot(ln,steps_log, 'r', label='f(x)=log(x)')\n",
    "#plt.xscale('log')\n",
    "plt.xlabel('Mida entrada (n)')\n",
    "plt.ylabel('Operacions')\n",
    "plt.title('Anàlisis de la complexitat')\n",
    "plt.legend()\n",
    "plt.show()"
   ]
  },
  {
   "cell_type": "code",
   "execution_count": null,
   "metadata": {},
   "outputs": [],
   "source": []
  },
  {
   "cell_type": "code",
   "execution_count": null,
   "metadata": {},
   "outputs": [],
   "source": []
  },
  {
   "cell_type": "code",
   "execution_count": null,
   "metadata": {},
   "outputs": [],
   "source": []
  },
  {
   "cell_type": "code",
   "execution_count": null,
   "metadata": {},
   "outputs": [],
   "source": []
  },
  {
   "cell_type": "code",
   "execution_count": null,
   "metadata": {},
   "outputs": [],
   "source": []
  },
  {
   "cell_type": "code",
   "execution_count": null,
   "metadata": {},
   "outputs": [],
   "source": []
  }
 ],
 "metadata": {
  "kernelspec": {
   "display_name": "Python 3",
   "language": "python",
   "name": "python3"
  },
  "language_info": {
   "codemirror_mode": {
    "name": "ipython",
    "version": 3
   },
   "file_extension": ".py",
   "mimetype": "text/x-python",
   "name": "python",
   "nbconvert_exporter": "python",
   "pygments_lexer": "ipython3",
   "version": "3.7.3"
  }
 },
 "nbformat": 4,
 "nbformat_minor": 4
}
