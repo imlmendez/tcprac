{
 "cells": [
  {
   "cell_type": "markdown",
   "metadata": {},
   "source": [
    "# Secretrum #\n"
   ]
  },
  {
   "cell_type": "markdown",
   "metadata": {},
   "source": [
    "## Iterativo ##\n"
   ]
  },
  {
   "cell_type": "code",
   "execution_count": 6,
   "metadata": {},
   "outputs": [],
   "source": [
    "def decrypt(value, cont = 0):\n",
    "    \"\"\"Decrypt iteratiu \"\"\"\n",
    "    num = int(value)\n",
    "    while num > 9:  #Bucle Externo\n",
    "        aux = num\n",
    "        sumatori = 0\n",
    "        while aux:  #Bucle Interno\n",
    "            sumatori += aux % 10\n",
    "            aux //= 10\n",
    "            cont = cont + 1 \n",
    "        num = sumatori \n",
    "    return [num,cont]\n"
   ]
  },
  {
   "cell_type": "code",
   "execution_count": 53,
   "metadata": {},
   "outputs": [],
   "source": [
    "import math\n",
    "def t(n):\n",
    "    if n < 9:\n",
    "        return 1\n",
    "    else:\n",
    "        return (math.ceil(math.log(n,10000000000))   ) * math.ceil(math.log(n,10) +2)  \n",
    "    "
   ]
  },
  {
   "cell_type": "code",
   "execution_count": 54,
   "metadata": {},
   "outputs": [],
   "source": [
    "def test(n):\n",
    "    if (t(n)==decrypt(n)[1]):\n",
    "        print('Test per la n={0}. e1(n) = T(n) = {1} Ok.'.format(n,t(n)))\n",
    "    else:\n",
    "        print('Test per la n={0}. e1(n) != T(n) => {1} != {2} Ok.'.format(n,e1(n)[1], t(n)))"
   ]
  },
  {
   "cell_type": "markdown",
   "metadata": {},
   "source": [
    "Mejor caso?\n",
    "\n",
    "$ \\Omega ? $  \n",
    "Vemos que depende del numero de digitos de **value**\n",
    "Como casi todas las operaciones en el bucle externo son asignaciones, tinene distintos costes $ Cx $ que podemos obviar, lo mismo con la conversión a int antes del bucle externo.\n",
    "\n",
    "En el mejor caso, num < 10, no tenemos que iterar repetidas veces en el bucle externo ni internos, asi que podríamos resumirlo a:\n",
    "\n",
    "$$ \\Omega  = 1 * Operacions Fuera del Bucle Externo $$\n",
    "\n",
    "Esto, sin duda, resultara en coste que solo dependera de los costes individuales de cada \n",
    "\n",
    "\n",
    "**Resolució**\n",
    "\n",
    "| Línia | Cost | Iteracions |\n",
    "|-------|------|------------|\n",
    "| 1     | $c1$ |      1     |\n",
    "| 2     | $c2$ |      1     |\n",
    "| 3     | $c3$ |      0     |\n",
    "| 4     | $c4$ |      0     |\n",
    "| 5     | $c5$ |      0     |\n",
    "| 6     | $c6$ |      0     |\n",
    "| 7     | $c7$ |      0     |\n",
    "| 8     | $c8$ |      0     |\n",
    "| 9     | $c9$ |      1     |\n",
    "\n",
    "Cost:\n",
    "$$T(n) = c1 + c2  + c9 $$\n",
    "\n",
    "Vemos entonces, que al solo depender de costes fijos, podemos decir:\n",
    "$$\\Omega(c)$$"
   ]
  },
  {
   "cell_type": "markdown",
   "metadata": {},
   "source": [
    "Peor Caso:\n",
    "$$ \\Theta ? $$\n",
    "\n",
    "Todos los digitos seran 9(para hacer las sumas mas grandes posibles), y tendremos n digitos\n",
    "\n",
    "Valor : Paràmetro value en la función decrypt\n",
    "Iteraciones: Cuantas veces se ejecuta el bucle Externo\n",
    "Pasos: Pequeño comentario de que va pasando en cada iteracion\n",
    "\n",
    "| Valor(n)          | Iteracions | Pasos                         |\n",
    "|-------------------|------------|-------------------------------|\n",
    "| 99                | 2          |  99 -> 18 -> 9                |\n",
    "| 999               | 2          |  999 -> 27 -> 9               |\n",
    "| 9999              | 2          |  9999 -> 36 -> 9              |\n",
    "| 9999999999        | 2          |  9999999999 -> 90 -> 9        |\n",
    "| 99999999999       | 3          |  99999999999 -> 99 -> 18 ->9  |\n",
    "\n",
    "Esto es, cada 11 nuevos digitos añadidos, hacemos una una iteración mas por el bucle exterior\n",
    "$$ \\left \\lceil{\\log_{10000000000}n +2 }\\right \\rceil  $$\n",
    "\n",
    "Esto, es tan solo para el bucle externo, el bucle interno, es mas sencillo de calcular, siendo las iteraciones del mismo:\n",
    "$$ T(n) = \\log n $$\n",
    "\n",
    "Como ambos estan anidados, multiplicamos y obtenemos (Depreciando asignaciones internas, que solo aumentan la constante que acompaña a n):\n",
    "$$ \\log_{10000000000} n  * \\log n  $$\n",
    "\n",
    "\n"
   ]
  },
  {
   "cell_type": "code",
   "execution_count": 55,
   "metadata": {},
   "outputs": [],
   "source": [
    "import random\n",
    "import math\n",
    "#n = [99,999,9999,99999,999999,99999999999]\n",
    "n = [10,100,1000,10000,100000,10000000000]\n",
    "steps_experimental=[0,0,0,0,0,0]\n",
    "steps_teoric=[0,0,0,0,0,0]\n",
    "steps_log=[0,0,0,0,0,0]\n",
    "\n",
    "\n",
    "for i in range(len(n)):\n",
    "    steps_teoric[i] = t(n[i])\n",
    "    steps_experimental[i] = decrypt(n[i])[1]\n",
    " \n",
    "    for j in range(math.ceil(math.log(n[i]))):\n",
    "             steps_log[i] = steps_log[i] +1 \n",
    "                      "
   ]
  },
  {
   "cell_type": "code",
   "execution_count": 56,
   "metadata": {},
   "outputs": [
    {
     "data": {
      "image/png": "[encoded data removed]",
      "text/plain": [
       "<Figure size 432x288 with 1 Axes>"
      ]
     },
     "metadata": {
      "needs_background": "light"
     },
     "output_type": "display_data"
    }
   ],
   "source": [
    "\n",
    "\n",
    "import matplotlib.pyplot as plt\n",
    "import numpy as np\n",
    "\n",
    "\n",
    "plt.plot(n,steps_experimental, 'g',label='experimental(x)')\n",
    "plt.plot(n,steps_teoric, 'b',label='teoric(x)')\n",
    "plt.plot(n,steps_log, 'r', label='f(x)=log(x)')\n",
    "plt.xscale('log')\n",
    "plt.xlabel('Mida entrada (n)')\n",
    "plt.ylabel('Operacions')\n",
    "plt.title('Anàlisis de la complexitat')\n",
    "plt.legend()\n",
    "plt.show()"
   ]
  },
  {
   "cell_type": "markdown",
   "metadata": {},
   "source": [
    "# Recursivo #"
   ]
  },
  {
   "cell_type": "code",
   "execution_count": 57,
   "metadata": {},
   "outputs": [],
   "source": [
    "def suma_recursiva(value,cont = 0):\n",
    "    \"\"\"Suma recursiva de digits \"\"\"\n",
    "\n",
    "    auxi = int(value)\n",
    "    if auxi <= 9:\n",
    "        return [auxi, cont]\n",
    "    ultimo_digito = auxi % 10\n",
    "    resto = auxi // 10\n",
    "    cont = cont + 1\n",
    "    nuevo = suma_recursiva(resto,cont)\n",
    "    return [ultimo_digito + nuevo[0],nuevo[1]]\n",
    "    #return [ultimo_digito + suma_recursiva(resto,cont)[0],cont + ]\n",
    "\n",
    "\n",
    "def decrypt_recursive(value, cont = 0):\n",
    "    \"\"\"Decrypt recursivo \"\"\"\n",
    "\n",
    "    aux = suma_recursiva(value,cont)\n",
    "    if aux[0] <= 9:\n",
    "        return aux\n",
    "    return decrypt_recursive(aux[0],aux[1])"
   ]
  },
  {
   "cell_type": "markdown",
   "metadata": {},
   "source": [
    "Primero, usamos suma_recursiva para obtener el valor de los digitos sumados, y volvemos a llamar a decrypt_recursive si esta suma es mayor que 9\n",
    "\n"
   ]
  },
  {
   "cell_type": "markdown",
   "metadata": {},
   "source": [
    "## Mejor caso ##\n",
    "\n",
    "Mejor caso?\n",
    "\n",
    "$ \\Omega ? $  \n",
    "Vemos que depende del numero de digitos de **value**\n",
    "Igual que en el caso iterativo, vemos varias asignaciones y operaciones de coste trivial tanto en decrypt_recursive como en suma_recursiva. Siguiendo la misma logica:\n",
    "\n",
    "En el mejor caso, num < 10, solo tendremso que llamar una vez a suma_recursiva y una vez a decrypt_recursive, dependeria entonces, solo de los costes de las operaciones internas, no del parametro en si, es entonces claramente:\n",
    "\n",
    "$$\\Omega(c)$$\n",
    "\n",
    "Donde c indica la suma del coste de cada operación de división, modulo, return, suma, etc..\n",
    "\n"
   ]
  },
  {
   "cell_type": "markdown",
   "metadata": {},
   "source": [
    "## Peor Caso ##\n",
    "\n",
    "\n",
    "$ \\Theta ? $\n",
    "\n",
    "Nos encontramos con el un esquema muy parecido al de la versión iterativa,suponemos n digitos, y todos ellos '9's, llamamos a la funcion suma_recursiva una vez más cada 11 digitos extras en **value**\n",
    "\n",
    "$$ \\left \\lceil{\\log_{10000000000}n }\\right \\rceil $$\n",
    "\n",
    "Y la función **suma_recursiva**  se llama asi misma la siguienta cantidad de veces:\n",
    "\n",
    "$$ T(n) = \\log n $$ \n",
    "\n",
    "Toda ella, tiene un coste por sus operaciones internas ( divisiones, sumas, return's..) pero podemos obviarlos, como **suma_recursiva**, es una llamada interna de **decrypt_recursive**, volvemos a tener un coste del orden:\n",
    "$$ \\left \\lceil{\\log_{10000000000}n }\\right \\rceil  * \\log n  $$\n"
   ]
  },
  {
   "cell_type": "code",
   "execution_count": 43,
   "metadata": {},
   "outputs": [],
   "source": [
    "import math\n",
    "def t_r(n):\n",
    "    if n < 9:\n",
    "        return 1\n",
    "    else:\n",
    "        return (math.ceil(math.log(n,10000000000))   ) * math.ceil(math.log(n,10))  \n",
    "    "
   ]
  },
  {
   "cell_type": "code",
   "execution_count": 44,
   "metadata": {},
   "outputs": [],
   "source": [
    "def test2(n):\n",
    "    if (t_r(n)==decrypt_recursive(n)[1]):\n",
    "        print('Test per la n={0}. e1(n) = T(n) = {1} Ok.'.format(n,t(n)))\n",
    "    else:\n",
    "        print('Test per la n={0}. e1(n) != T(n) => {1} != {2} Ok.'.format(n,e1(n)[1], t(n)))"
   ]
  },
  {
   "cell_type": "code",
   "execution_count": 47,
   "metadata": {},
   "outputs": [],
   "source": [
    "import random\n",
    "import math\n",
    "#n = [99,999,9999,99999,999999,99999999999]\n",
    "n = [10,100,1000,10000,100000,10000000000]\n",
    "\n",
    "steps_experimental=[0,0,0,0,0,0]\n",
    "steps_teoric=[0,0,0,0,0,0]\n",
    "steps_log=[0,0,0,0,0,0]\n",
    "\n",
    "\n",
    "for i in range(len(n)):\n",
    "    steps_teoric[i] = t_r(n[i])\n",
    "    steps_experimental[i] = decrypt_recursive(n[i])[1]\n",
    " \n",
    "    for j in range(math.ceil(math.log(n[i]))):\n",
    "             steps_log[i] = steps_log[i] +1 \n",
    "                      "
   ]
  },
  {
   "cell_type": "code",
   "execution_count": 50,
   "metadata": {},
   "outputs": [
    {
     "data": {
      "image/png": "[encoded data removed]",
      "text/plain": [
       "<Figure size 432x288 with 1 Axes>"
      ]
     },
     "metadata": {
      "needs_background": "light"
     },
     "output_type": "display_data"
    }
   ],
   "source": [
    "\n",
    "\n",
    "import matplotlib.pyplot as plt\n",
    "import numpy as np\n",
    "\n",
    "\n",
    "plt.plot(n,steps_experimental, 'g',label='experimental(x)')\n",
    "plt.plot(n,steps_teoric, 'b',label='teoric(x)')\n",
    "plt.plot(n,steps_log, 'r', label='f(x)=log(x)')\n",
    "plt.xscale('log')\n",
    "plt.xlabel('Mida entrada (n)')\n",
    "plt.ylabel('Operacions')\n",
    "plt.title('Anàlisis de la complexitat')\n",
    "plt.legend()\n",
    "plt.show()"
   ]
  },
  {
   "cell_type": "markdown",
   "metadata": {},
   "source": [
    "Vemos que los resultados experimentales coinciden en ambas versiones, le da validez a que los teoricos tambien coincidan"
   ]
  },
  {
   "cell_type": "code",
   "execution_count": null,
   "metadata": {},
   "outputs": [],
   "source": []
  },
  {
   "cell_type": "code",
   "execution_count": null,
   "metadata": {},
   "outputs": [],
   "source": []
  }
 ],
 "metadata": {
  "kernelspec": {
   "display_name": "Python 3",
   "language": "python",
   "name": "python3"
  },
  "language_info": {
   "codemirror_mode": {
    "name": "ipython",
    "version": 3
   },
   "file_extension": ".py",
   "mimetype": "text/x-python",
   "name": "python",
   "nbconvert_exporter": "python",
   "pygments_lexer": "ipython3",
   "version": "3.6.8"
  }
 },
 "nbformat": 4,
 "nbformat_minor": 2
}
